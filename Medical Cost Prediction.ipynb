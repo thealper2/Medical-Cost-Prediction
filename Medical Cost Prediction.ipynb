{
 "cells": [
  {
   "cell_type": "code",
   "execution_count": 14,
   "id": "785a72a8",
   "metadata": {},
   "outputs": [],
   "source": [
    "import numpy as np\n",
    "import pandas as pd\n",
    "import pickle\n",
    "from sklearn.model_selection import train_test_split\n",
    "from sklearn.preprocessing import LabelEncoder\n",
    "from sklearn.ensemble import RandomForestRegressor\n",
    "from sklearn.metrics import accuracy_score"
   ]
  },
  {
   "cell_type": "code",
   "execution_count": 15,
   "id": "0b713f4c",
   "metadata": {},
   "outputs": [],
   "source": [
    "df = pd.read_csv(\"insurance.csv\")"
   ]
  },
  {
   "cell_type": "code",
   "execution_count": 17,
   "id": "13b1ed64",
   "metadata": {},
   "outputs": [],
   "source": [
    "def label_encoder(column):\n",
    "    le = LabelEncoder().fit(column)\n",
    "    print(column.name, le.classes_)\n",
    "    return le.transform(column)"
   ]
  },
  {
   "cell_type": "code",
   "execution_count": 18,
   "id": "4c5635a1",
   "metadata": {},
   "outputs": [],
   "source": [
    "cols = [\"sex\", \"smoker\", \"region\"]"
   ]
  },
  {
   "cell_type": "code",
   "execution_count": 19,
   "id": "6cfb9165",
   "metadata": {},
   "outputs": [
    {
     "name": "stdout",
     "output_type": "stream",
     "text": [
      "sex ['female' 'male']\n",
      "smoker ['no' 'yes']\n",
      "region ['northeast' 'northwest' 'southeast' 'southwest']\n"
     ]
    }
   ],
   "source": [
    "for col in cols:\n",
    "    df[col] = label_encoder(df[col])"
   ]
  },
  {
   "cell_type": "code",
   "execution_count": 21,
   "id": "c7e9d51d",
   "metadata": {},
   "outputs": [
    {
     "data": {
      "text/plain": [
       "age         0\n",
       "sex         0\n",
       "bmi         0\n",
       "children    0\n",
       "smoker      0\n",
       "region      0\n",
       "charges     0\n",
       "dtype: int64"
      ]
     },
     "execution_count": 21,
     "metadata": {},
     "output_type": "execute_result"
    }
   ],
   "source": [
    "df.isnull().sum()"
   ]
  },
  {
   "cell_type": "code",
   "execution_count": 22,
   "id": "2615ed5e",
   "metadata": {},
   "outputs": [],
   "source": [
    "X = df.drop([\"charges\"], axis=1)\n",
    "y = df[\"charges\"]"
   ]
  },
  {
   "cell_type": "code",
   "execution_count": 23,
   "id": "8fd7de1a",
   "metadata": {},
   "outputs": [],
   "source": [
    "X_train, X_test, y_train, y_test = train_test_split(X, y, test_size=0.2, random_state=4242)"
   ]
  },
  {
   "cell_type": "code",
   "execution_count": 25,
   "id": "2e77032e",
   "metadata": {},
   "outputs": [
    {
     "name": "stdout",
     "output_type": "stream",
     "text": [
      "RF: 0.7721930612435102\n"
     ]
    }
   ],
   "source": [
    "rf_model = RandomForestRegressor()\n",
    "rf_model.fit(X_train, y_train)\n",
    "y_pred = rf_model.predict(X_test)\n",
    "print(\"RF:\", rf_model.score(X_test, y_test))"
   ]
  },
  {
   "cell_type": "code",
   "execution_count": 26,
   "id": "66bee19b",
   "metadata": {},
   "outputs": [],
   "source": [
    "pickle.dump(rf_model, open(\"RF.pkl\", \"wb\"))"
   ]
  },
  {
   "cell_type": "code",
   "execution_count": null,
   "id": "ee34953d",
   "metadata": {},
   "outputs": [],
   "source": []
  }
 ],
 "metadata": {
  "kernelspec": {
   "display_name": "Python 3 (ipykernel)",
   "language": "python",
   "name": "python3"
  },
  "language_info": {
   "codemirror_mode": {
    "name": "ipython",
    "version": 3
   },
   "file_extension": ".py",
   "mimetype": "text/x-python",
   "name": "python",
   "nbconvert_exporter": "python",
   "pygments_lexer": "ipython3",
   "version": "3.8.16"
  }
 },
 "nbformat": 4,
 "nbformat_minor": 5
}
